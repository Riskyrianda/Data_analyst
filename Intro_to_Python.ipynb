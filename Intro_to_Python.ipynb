{
  "nbformat": 4,
  "nbformat_minor": 0,
  "metadata": {
    "colab": {
      "provenance": [],
      "collapsed_sections": [
        "TEOP2ntOuZGf",
        "smJcvDFR0zfD",
        "92J_5rQB3h7u"
      ],
      "include_colab_link": true
    },
    "kernelspec": {
      "name": "python3",
      "display_name": "Python 3"
    },
    "language_info": {
      "name": "python"
    }
  },
  "cells": [
    {
      "cell_type": "markdown",
      "metadata": {
        "id": "view-in-github",
        "colab_type": "text"
      },
      "source": [
        "<a href=\"https://colab.research.google.com/github/Riskyrianda/Data_analyst/blob/main/Intro_to_Python.ipynb\" target=\"_parent\"><img src=\"https://colab.research.google.com/assets/colab-badge.svg\" alt=\"Open In Colab\"/></a>"
      ]
    },
    {
      "cell_type": "code",
      "execution_count": null,
      "metadata": {
        "id": "vmGbKODa0K7Z"
      },
      "outputs": [],
      "source": [
        "print('hello world')"
      ]
    },
    {
      "cell_type": "markdown",
      "source": [
        "#Data Types"
      ],
      "metadata": {
        "id": "TEOP2ntOuZGf"
      }
    },
    {
      "cell_type": "code",
      "source": [
        "#integer\n",
        "variable_integer = 20\n",
        "\n",
        "#float\n",
        "var_float = 12.9\n",
        "\n",
        "#string\n",
        "var_string = 'ini adalah string'\n",
        "\n",
        "#boolean\n",
        "var_boolean_true = True\n",
        "var_boolean_false = False"
      ],
      "metadata": {
        "id": "25EHIHpDuq4h"
      },
      "execution_count": null,
      "outputs": []
    },
    {
      "cell_type": "code",
      "source": [
        "variable_integer"
      ],
      "metadata": {
        "id": "ZGffUDrMKXs-"
      },
      "execution_count": null,
      "outputs": []
    },
    {
      "cell_type": "code",
      "source": [
        "var_boolean_true"
      ],
      "metadata": {
        "id": "sMMZ1RIRu88P"
      },
      "execution_count": null,
      "outputs": []
    },
    {
      "cell_type": "code",
      "source": [
        "print(var_float)"
      ],
      "metadata": {
        "id": "oKNuApwqw0FF"
      },
      "execution_count": null,
      "outputs": []
    },
    {
      "cell_type": "code",
      "source": [
        "print(type(var_float)) #untuk ngecheck tipe data\n",
        "print(type(variable_integer))\n",
        "print(type(var_string))"
      ],
      "metadata": {
        "id": "hw0EQSJBNwDC"
      },
      "execution_count": null,
      "outputs": []
    },
    {
      "cell_type": "code",
      "source": [
        "print('tipe data variable ini adalah' ,type(variable_integer))\n",
        "print('tipe data variable ini adalah' ,type(var_float))\n",
        "print('tipe data variable ini adalah' ,type(var_string))\n",
        "print('tipe data variable ini adalah' ,type(var_boolean_true))"
      ],
      "metadata": {
        "id": "9SBTIU4IxBSF"
      },
      "execution_count": null,
      "outputs": []
    },
    {
      "cell_type": "code",
      "source": [
        "float(variable_integer)"
      ],
      "metadata": {
        "id": "y5kIDyucO5X-"
      },
      "execution_count": null,
      "outputs": []
    },
    {
      "cell_type": "code",
      "source": [
        "var_int_to_float = float(variable_integer)"
      ],
      "metadata": {
        "id": "C1nx1h1oQEaN"
      },
      "execution_count": null,
      "outputs": []
    },
    {
      "cell_type": "code",
      "source": [
        "type(var_int_to_float)"
      ],
      "metadata": {
        "id": "eLcY9klOOyF4"
      },
      "execution_count": null,
      "outputs": []
    },
    {
      "cell_type": "code",
      "source": [
        "var_int_to_float"
      ],
      "metadata": {
        "id": "-tSTJrzPQV87"
      },
      "execution_count": null,
      "outputs": []
    },
    {
      "cell_type": "code",
      "source": [
        "print(type(int(variable_integer)))"
      ],
      "metadata": {
        "id": "WN17oTO0yoS7"
      },
      "execution_count": null,
      "outputs": []
    },
    {
      "cell_type": "code",
      "source": [
        "var_float_2 = int(var_float)\n",
        "var_float_2"
      ],
      "metadata": {
        "id": "i6H9-BxCzMMj"
      },
      "execution_count": null,
      "outputs": []
    },
    {
      "cell_type": "code",
      "source": [
        "type(var_float)"
      ],
      "metadata": {
        "id": "t5ezfwCXzg5D"
      },
      "execution_count": null,
      "outputs": []
    },
    {
      "cell_type": "code",
      "source": [
        "type(var_float_2)"
      ],
      "metadata": {
        "id": "_iHnrZOvzoG8"
      },
      "execution_count": null,
      "outputs": []
    },
    {
      "cell_type": "code",
      "source": [],
      "metadata": {
        "id": "WqgFMJ_4A86H"
      },
      "execution_count": null,
      "outputs": []
    },
    {
      "cell_type": "markdown",
      "source": [
        "#Data Structure"
      ],
      "metadata": {
        "id": "smJcvDFR0zfD"
      }
    },
    {
      "cell_type": "code",
      "source": [
        "#Sets\n",
        "var_sets = {1,2,3,'string',2}\n",
        "print(var_sets)"
      ],
      "metadata": {
        "id": "5nRbSPI81LuX"
      },
      "execution_count": null,
      "outputs": []
    },
    {
      "cell_type": "code",
      "source": [
        "#Tuples\n",
        "var_tuples = (1,2,3,4,'string',True)\n",
        "var_tuples"
      ],
      "metadata": {
        "id": "Y3-QRDVv1e0I"
      },
      "execution_count": null,
      "outputs": []
    },
    {
      "cell_type": "code",
      "source": [
        "#List\n",
        "var_list = [1,2,3,4,'string',12.5, True, 2]\n",
        "var_list"
      ],
      "metadata": {
        "id": "0rj7q6Hm1zlX"
      },
      "execution_count": null,
      "outputs": []
    },
    {
      "cell_type": "code",
      "source": [
        "#dictionary  ## {key:value, key2:value2}\n",
        "var_dic = {'kendaraan ':'mobil', 'buah':'apel', 'warna':'kuning'}\n",
        "var_dic"
      ],
      "metadata": {
        "id": "-ot-FmRg2KGc"
      },
      "execution_count": null,
      "outputs": []
    },
    {
      "cell_type": "code",
      "source": [
        "var_dic2= {'kendaraan':['mobil','motor','pesawat'],'buah':'apel','warna':'kuning'}\n",
        "var_dic2"
      ],
      "metadata": {
        "id": "LdcuXokM2nET"
      },
      "execution_count": null,
      "outputs": []
    },
    {
      "cell_type": "code",
      "source": [
        "var_list"
      ],
      "metadata": {
        "id": "jM0Irs-w4LHb"
      },
      "execution_count": null,
      "outputs": []
    },
    {
      "cell_type": "code",
      "source": [
        "var_list[2]"
      ],
      "metadata": {
        "id": "PwphF2maPxzK"
      },
      "execution_count": null,
      "outputs": []
    },
    {
      "cell_type": "code",
      "source": [
        "var_list[-2]"
      ],
      "metadata": {
        "id": "QbAfwNFv4sBS"
      },
      "execution_count": null,
      "outputs": []
    },
    {
      "cell_type": "code",
      "source": [
        "var_list[0]"
      ],
      "metadata": {
        "id": "W77Z-mRW3-Xe"
      },
      "execution_count": null,
      "outputs": []
    },
    {
      "cell_type": "code",
      "source": [
        "# var_list[index_startnya : index_stop]\n",
        "\n",
        "var_list[0:4]"
      ],
      "metadata": {
        "id": "r30BrBEzRAzc"
      },
      "execution_count": null,
      "outputs": []
    },
    {
      "cell_type": "code",
      "source": [
        "var_list[:4]"
      ],
      "metadata": {
        "id": "AvbOy3hSRyDC"
      },
      "execution_count": null,
      "outputs": []
    },
    {
      "cell_type": "code",
      "source": [
        "var_list[2:]"
      ],
      "metadata": {
        "id": "ZT8AbAz8R7St"
      },
      "execution_count": null,
      "outputs": []
    },
    {
      "cell_type": "code",
      "source": [
        "var_list[:]"
      ],
      "metadata": {
        "id": "6P2Lz4NoSJuh"
      },
      "execution_count": null,
      "outputs": []
    },
    {
      "cell_type": "code",
      "source": [
        "thislist = [\"apple\", \"banana\", \"cherry\"]\n",
        "\n",
        "thislist[1] = \"blackcurrant\"\n",
        "print(thislist)"
      ],
      "metadata": {
        "id": "fyTGNkcvQs7Z"
      },
      "execution_count": null,
      "outputs": []
    },
    {
      "cell_type": "code",
      "source": [
        "thislist = [\"apple\", \"banana\", \"cherry\"]\n",
        "\n",
        "thislist[1:2] = [\"blackcurrant\", \"watermelon\"]\n",
        "print(thislist)"
      ],
      "metadata": {
        "id": "NaewuVORSRle"
      },
      "execution_count": null,
      "outputs": []
    },
    {
      "cell_type": "code",
      "source": [
        "thislist = [\"apple\", \"banana\", \"cherry\"]\n",
        "\n",
        "thislist.append(\"orange\")\n",
        "print(thislist)"
      ],
      "metadata": {
        "id": "LPiya5UNTChj"
      },
      "execution_count": null,
      "outputs": []
    },
    {
      "cell_type": "code",
      "source": [
        "thislist = [\"apple\", \"banana\", \"cherry\"]\n",
        "\n",
        "thislist.insert(1, \"orange\")\n",
        "print(thislist)"
      ],
      "metadata": {
        "id": "hnenpqZwTLGq"
      },
      "execution_count": null,
      "outputs": []
    },
    {
      "cell_type": "markdown",
      "source": [
        "#IF Statement"
      ],
      "metadata": {
        "id": "92J_5rQB3h7u"
      }
    },
    {
      "cell_type": "code",
      "source": [
        "umur = 20\n",
        "\n",
        "# if conditionnya:\n",
        "#   statementnya\n",
        "\n",
        "if umur <= 20 :\n",
        "  print(\"anda masih dibawah umur\")\n"
      ],
      "metadata": {
        "id": "bLbIG2kasnly"
      },
      "execution_count": null,
      "outputs": []
    },
    {
      "cell_type": "code",
      "source": [
        "umur = 18\n",
        "\n",
        "if umur >=20 :\n",
        "    print(\"Anda sudah dewasa.\")"
      ],
      "metadata": {
        "id": "scpS9rn_tM_1"
      },
      "execution_count": null,
      "outputs": []
    },
    {
      "cell_type": "code",
      "source": [
        "x = 2\n",
        "y = 10\n",
        "\n",
        "if x == y:\n",
        "  print('ini adalah statement ke-1')\n",
        "else :\n",
        "  print('ini adalah statement ke-2')"
      ],
      "metadata": {
        "id": "l9jJ0M3F7N2S"
      },
      "execution_count": null,
      "outputs": []
    },
    {
      "cell_type": "code",
      "source": [
        "x = 5\n",
        "y = 12\n",
        "\n",
        "if x*y == 60 :\n",
        "  print ('ini adalah statement ke-1')\n",
        "else :\n",
        "  print('ini adalah statement ke-2')"
      ],
      "metadata": {
        "id": "h_A-juBP-B9S"
      },
      "execution_count": null,
      "outputs": []
    },
    {
      "cell_type": "code",
      "source": [
        "nilai = 70\n",
        "\n",
        "if nilai >= 90 :\n",
        "  print('Predikat A')\n",
        "elif nilai >= 80 :\n",
        "  print ('Predikat B')\n",
        "elif nilai >= 60 :\n",
        "  print ('Predikat C')\n",
        "elif nilai >= 40 :\n",
        "  print ('Predikat D')\n",
        "else :\n",
        "  print ('Predikat E')"
      ],
      "metadata": {
        "id": "_GCEzAD7_AbS"
      },
      "execution_count": null,
      "outputs": []
    },
    {
      "cell_type": "code",
      "source": [
        "if x+y == 10:\n",
        "   print('ini adalah statement ke-1')\n",
        "elif x+y == 12:\n",
        "   print('ini adalah statement ke-2')\n",
        "else :\n",
        "  print('ini sisanya')"
      ],
      "metadata": {
        "id": "hjAKl4z0-7ZY"
      },
      "execution_count": null,
      "outputs": []
    },
    {
      "cell_type": "code",
      "source": [
        "var = 100\n",
        "\n",
        "if var < 200 :\n",
        "  print(\"Expression value is less than 200\")\n",
        "  if var == 150 :\n",
        "    print(\"which is 150\")\n",
        "  elif var == 100 :\n",
        "    print(\"which is 100\")\n",
        "  elif var == 50 :\n",
        "    print(\"which is 50\")\n",
        "  elif var < 50:\n",
        "    print(\"expression value is less than 50\")\n",
        "  else :\n",
        "    print(\"the rest\")\n",
        "else :\n",
        "  print(\"could not find true expression\")"
      ],
      "metadata": {
        "id": "xWkb67EKDCed"
      },
      "execution_count": null,
      "outputs": []
    },
    {
      "cell_type": "code",
      "source": [],
      "metadata": {
        "id": "C9arBNIFoi9c"
      },
      "execution_count": null,
      "outputs": []
    },
    {
      "cell_type": "markdown",
      "source": [
        "##looping"
      ],
      "metadata": {
        "id": "diNzN_g7DD1E"
      }
    },
    {
      "cell_type": "markdown",
      "source": [
        "#while loop  (looping tidak terbatas)"
      ],
      "metadata": {
        "id": "F8JMDeehDJW9"
      }
    },
    {
      "cell_type": "code",
      "source": [
        "x=1\n",
        "\n",
        "while x <= 10:\n",
        "  print(\"caesar dan bastian badeur\")\n",
        "  x += 1 #-> x = x + 1"
      ],
      "metadata": {
        "colab": {
          "base_uri": "https://localhost:8080/"
        },
        "id": "WnkfFuM7KDh5",
        "outputId": "08735ab9-d8fa-4506-a0b0-e00013697e40"
      },
      "execution_count": null,
      "outputs": [
        {
          "output_type": "stream",
          "name": "stdout",
          "text": [
            "caesar dan bastian badeur\n",
            "caesar dan bastian badeur\n",
            "caesar dan bastian badeur\n",
            "caesar dan bastian badeur\n",
            "caesar dan bastian badeur\n",
            "caesar dan bastian badeur\n",
            "caesar dan bastian badeur\n",
            "caesar dan bastian badeur\n",
            "caesar dan bastian badeur\n",
            "caesar dan bastian badeur\n"
          ]
        }
      ]
    },
    {
      "cell_type": "code",
      "source": [
        "x=1\n",
        "\n",
        "while x < 5:\n",
        "  print(\"saya berjanji tidak akan mengulangi perbuatan buruk saya\")\n",
        "  x += 1 #-> x = x + 1 -> akan mengupdate x menjadi +1 disetiap putarannya/loopingnya"
      ],
      "metadata": {
        "colab": {
          "base_uri": "https://localhost:8080/"
        },
        "id": "hFVA0wXKo6wk",
        "outputId": "028336d8-96f9-4862-b7b4-7809809fb96f"
      },
      "execution_count": null,
      "outputs": [
        {
          "output_type": "stream",
          "name": "stdout",
          "text": [
            "saya berjanji tidak akan mengulangi perbuatan buruk saya\n",
            "saya berjanji tidak akan mengulangi perbuatan buruk saya\n",
            "saya berjanji tidak akan mengulangi perbuatan buruk saya\n",
            "saya berjanji tidak akan mengulangi perbuatan buruk saya\n"
          ]
        }
      ]
    },
    {
      "cell_type": "markdown",
      "source": [
        "#for loop"
      ],
      "metadata": {
        "id": "cOV1CqivPC1s"
      }
    },
    {
      "cell_type": "code",
      "source": [
        "fruits = [\"apple\", \"banana\", \"cherry\"]\n",
        "\n",
        "for buah in fruits: # --> buah di dalam for itu mengandung/memenuhi setiap item yang ada di dalam list fruits\n",
        "  print(\"ini adalah buah:\", buah)\n"
      ],
      "metadata": {
        "colab": {
          "base_uri": "https://localhost:8080/"
        },
        "id": "GpXl8XTvPHQI",
        "outputId": "ede26037-34a0-48b9-84f5-65f018cdecab"
      },
      "execution_count": null,
      "outputs": [
        {
          "output_type": "stream",
          "name": "stdout",
          "text": [
            "ini adalah buah: apple\n",
            "ini adalah buah: banana\n",
            "ini adalah buah: cherry\n"
          ]
        }
      ]
    },
    {
      "cell_type": "code",
      "source": [
        "print(fruits)"
      ],
      "metadata": {
        "colab": {
          "base_uri": "https://localhost:8080/"
        },
        "id": "ugCs9HbUeMjM",
        "outputId": "8b9b0355-385b-401f-9c96-f0868efc35f3"
      },
      "execution_count": null,
      "outputs": [
        {
          "output_type": "stream",
          "name": "stdout",
          "text": [
            "['apple', 'banana', 'cherry']\n"
          ]
        }
      ]
    },
    {
      "cell_type": "code",
      "source": [
        "for angka in range(5) : # -> 0,1,2,3,4\n",
        "  print (angka)"
      ],
      "metadata": {
        "colab": {
          "base_uri": "https://localhost:8080/"
        },
        "id": "bP0g0ojCQqqt",
        "outputId": "7832b59a-5a35-4c8c-d154-8e4ae2d06a66"
      },
      "execution_count": null,
      "outputs": [
        {
          "output_type": "stream",
          "name": "stdout",
          "text": [
            "0\n",
            "1\n",
            "2\n",
            "3\n",
            "4\n"
          ]
        }
      ]
    },
    {
      "cell_type": "code",
      "source": [
        "trans = ['mobil', 'motor', 'sepeda', 'pesawat']\n",
        "\n",
        "for kendaraan in trans:\n",
        "  if kendaraan == 'mobil':\n",
        "    print('gasss')\n",
        "  elif kendaraan == 'motor':\n",
        "    print('gass')\n",
        "  elif kendaraan == 'pesawat':\n",
        "    print('gazzzzz')\n",
        "  else:\n",
        "    print('gas')"
      ],
      "metadata": {
        "colab": {
          "base_uri": "https://localhost:8080/"
        },
        "id": "vC8-Q69_etFh",
        "outputId": "210d498c-195b-49c0-91af-02dd64638ee4"
      },
      "execution_count": null,
      "outputs": [
        {
          "output_type": "stream",
          "name": "stdout",
          "text": [
            "gasss\n",
            "gass\n",
            "gas\n",
            "gazzzzz\n"
          ]
        }
      ]
    },
    {
      "cell_type": "code",
      "source": [
        "for i in range (5):\n",
        "  if i == 3:\n",
        "    break"
      ],
      "metadata": {
        "colab": {
          "base_uri": "https://localhost:8080/"
        },
        "id": "_17Ed99ZQ8Al",
        "outputId": "f67c34bc-9003-46b9-f3f8-c22ef5e018d2"
      },
      "execution_count": null,
      "outputs": [
        {
          "output_type": "stream",
          "name": "stdout",
          "text": [
            "3\n"
          ]
        }
      ]
    },
    {
      "cell_type": "code",
      "source": [
        "for i in range (5):\n",
        "  if i == 3:\n",
        "    continue\n",
        "  print (i)"
      ],
      "metadata": {
        "colab": {
          "base_uri": "https://localhost:8080/"
        },
        "id": "sAfTgkwKR5Nu",
        "outputId": "ad155cff-c3a5-48dd-dd82-4a5c450d0c7e"
      },
      "execution_count": null,
      "outputs": [
        {
          "output_type": "stream",
          "name": "stdout",
          "text": [
            "0\n",
            "1\n",
            "2\n",
            "4\n"
          ]
        }
      ]
    },
    {
      "cell_type": "code",
      "source": [
        "fruits = [\"apple\", \"banana\", \"cherry\"]\n",
        "for buah in fruits:\n",
        "  if buah == 'banana':\n",
        "    break\n",
        "  print('ini adalah buah:', buah)"
      ],
      "metadata": {
        "id": "wGXR6b_Nq6tc"
      },
      "execution_count": null,
      "outputs": []
    },
    {
      "cell_type": "code",
      "source": [
        "fruits = [\"apple\", \"banana\", \"cherry\"]\n",
        "for buah in fruits:\n",
        "  if buah == 'banana':\n",
        "    continue\n",
        "  print('ini adalah buah:', buah)"
      ],
      "metadata": {
        "id": "671DSgL0srW0"
      },
      "execution_count": null,
      "outputs": []
    },
    {
      "cell_type": "code",
      "source": [
        "kendaraan = ['mobil', 'pesawat','sepeda','motor','kapal']\n",
        "for vehicle in kendaraan:\n",
        "  if vehicle == 'mobil':\n",
        "    print('kendaraan yang digunakan adalah',vehicle)\n",
        "  elif vehicle == 'motor' :\n",
        "    print('kendaraan yang digunakan adalah', vehicle)\n",
        "  else :\n",
        "    print('kendaraan lain adalah',vehicle)"
      ],
      "metadata": {
        "id": "Jo2yjC6-sHp7"
      },
      "execution_count": null,
      "outputs": []
    },
    {
      "cell_type": "code",
      "source": [
        "#1. buatlah program untuk menilai apakah suatu nilai merupakan bilangan genap/ganjil\n",
        "\n",
        "genap = []\n",
        "ganjil = []\n",
        "\n",
        "x = 1\n",
        "while x < 20:\n",
        "  if x%2 != 0: # kalo x dibagi dengan 2, sisanya tidak sama dengan 0 atau habis\n",
        "    ganjil.append(x)\n",
        "  else:\n",
        "    genap.append(x)\n",
        "  x+=1\n",
        "\n",
        "print('bilangan genap',genap)\n",
        "print('bilangan ganjil',ganjil)"
      ],
      "metadata": {
        "id": "EHtoIa1Y7RGG",
        "colab": {
          "base_uri": "https://localhost:8080/"
        },
        "outputId": "6fa5949b-321b-4286-8db2-4d7aa44811a2"
      },
      "execution_count": null,
      "outputs": [
        {
          "output_type": "stream",
          "name": "stdout",
          "text": [
            "bilangan genap [2, 4, 6, 8, 10, 12, 14, 16, 18]\n",
            "bilangan ganjil [1, 3, 5, 7, 9, 11, 13, 15, 17, 19]\n"
          ]
        }
      ]
    },
    {
      "cell_type": "code",
      "source": [
        "#2. buatlah program python yang menentukan kategori nilai berdasarkan skala berikut: 90-100 (A), 80-89 (B), 70-79 (C), 60-69 (D), dan kurang dari 60 (E). buatlah variabel nilai dan kategori dengan menggunakan program python\n",
        "\n",
        "nilai = -1\n",
        "\n",
        "if nilai >= 90 and nilai <= 100:\n",
        "    print(\"nilai Anda adalah: A\")\n",
        "elif nilai >= 80 and nilai <= 89:\n",
        "    print(\"nilai Anda adalah: B\")\n",
        "elif nilai >= 70 and nilai <= 79:\n",
        "    print(\"nilai Anda adalah: C\")\n",
        "elif nilai >= 60 and nilai <= 69:\n",
        "    print(\"nilai Anda adalah: D\")\n",
        "elif nilai >= 0 and nilai < 60:\n",
        "    print(\"nilai Anda adalah: E\")\n",
        "else:\n",
        "    print(\"masukkan nilai dengan benar woy\")"
      ],
      "metadata": {
        "id": "jqD5Y5bCQb5W",
        "colab": {
          "base_uri": "https://localhost:8080/"
        },
        "outputId": "bd62e69a-c370-4ea3-89ef-6dd72bb35571"
      },
      "execution_count": null,
      "outputs": [
        {
          "output_type": "stream",
          "name": "stdout",
          "text": [
            "masukkan nilai dengan benar woy\n"
          ]
        }
      ]
    },
    {
      "cell_type": "code",
      "source": [
        "# 3. buatlah program python yang mencetak angka ganjil antara angka 1 hingga 15 menggunakan loop while\n",
        "\n",
        "i = 1\n",
        "while i <= 15:\n",
        "    print(i)\n",
        "    i += 2"
      ],
      "metadata": {
        "id": "4VHGuDguQlhm",
        "colab": {
          "base_uri": "https://localhost:8080/"
        },
        "outputId": "a93fe923-db0f-4ff1-fffe-52ae22badf97"
      },
      "execution_count": null,
      "outputs": [
        {
          "output_type": "stream",
          "name": "stdout",
          "text": [
            "1\n",
            "3\n",
            "5\n",
            "7\n",
            "9\n",
            "11\n",
            "13\n",
            "15\n"
          ]
        }
      ]
    },
    {
      "cell_type": "markdown",
      "source": [
        "#Input"
      ],
      "metadata": {
        "id": "NUOHXIzOFbFz"
      }
    },
    {
      "cell_type": "code",
      "source": [
        "umur = 20\n",
        "umur"
      ],
      "metadata": {
        "id": "Mb038CDoGZtm",
        "colab": {
          "base_uri": "https://localhost:8080/"
        },
        "outputId": "df98bcc8-2224-4606-9401-da99f5f5298e"
      },
      "execution_count": null,
      "outputs": [
        {
          "output_type": "execute_result",
          "data": {
            "text/plain": [
              "20"
            ]
          },
          "metadata": {},
          "execution_count": 6
        }
      ]
    },
    {
      "cell_type": "code",
      "source": [
        "umur = input(\"silahkan masukan umur kalian: \")"
      ],
      "metadata": {
        "id": "G4z80t1_GdgE",
        "colab": {
          "base_uri": "https://localhost:8080/"
        },
        "outputId": "c18418c9-5639-467e-fe86-abdc6d338c1d"
      },
      "execution_count": null,
      "outputs": [
        {
          "name": "stdout",
          "output_type": "stream",
          "text": [
            "silahkan masukan umur kalian: 24\n"
          ]
        }
      ]
    },
    {
      "cell_type": "code",
      "source": [
        "umur"
      ],
      "metadata": {
        "colab": {
          "base_uri": "https://localhost:8080/",
          "height": 35
        },
        "id": "DfluuxECh2BT",
        "outputId": "48e226a3-a632-4c22-9d87-62b5298b89a6"
      },
      "execution_count": null,
      "outputs": [
        {
          "output_type": "execute_result",
          "data": {
            "text/plain": [
              "'24'"
            ],
            "application/vnd.google.colaboratory.intrinsic+json": {
              "type": "string"
            }
          },
          "metadata": {},
          "execution_count": 8
        }
      ]
    },
    {
      "cell_type": "code",
      "source": [
        "type(umur)"
      ],
      "metadata": {
        "id": "nXz7WeLxIwfv",
        "colab": {
          "base_uri": "https://localhost:8080/"
        },
        "outputId": "31bfde62-a179-46b8-a65a-28702e4fdbfe"
      },
      "execution_count": null,
      "outputs": [
        {
          "output_type": "execute_result",
          "data": {
            "text/plain": [
              "str"
            ]
          },
          "metadata": {},
          "execution_count": 9
        }
      ]
    },
    {
      "cell_type": "code",
      "source": [
        "umur_nominal = int(umur)\n",
        "type(umur_nominal)"
      ],
      "metadata": {
        "id": "MDDY1IvDYkMV",
        "colab": {
          "base_uri": "https://localhost:8080/"
        },
        "outputId": "371f31ba-dbcc-4784-8f69-8e0c5a084862"
      },
      "execution_count": null,
      "outputs": [
        {
          "output_type": "execute_result",
          "data": {
            "text/plain": [
              "int"
            ]
          },
          "metadata": {},
          "execution_count": 10
        }
      ]
    },
    {
      "cell_type": "markdown",
      "source": [
        "#program sederhana untuk menghitung body mass index (BMI)\n",
        "Berat badan dibagi dengan kuadrat tiggi badan Kategori:\n",
        "1. Berat badan di bawah normal jika angka BMI di bawah 18,5\n",
        "2. Berat badan normal jika BMI diantara 18,5-24,9\n",
        "3. Berat badan berlebih jika angka BMI diatara 25-29,9\n",
        "4. Obesitas jika angka BMI adalah 30 atau lebih"
      ],
      "metadata": {
        "id": "7p18gJKzZU3H"
      }
    },
    {
      "cell_type": "code",
      "source": [
        "berat = float(input(\"isi berat badan kita:\"))\n",
        "tinggi = float(input (\"isi tinggi badan kita:\"))\n",
        "\n",
        "bmi = berat /(tinggi*tinggi)\n",
        "\n",
        "print('bmi-nya adalah', bmi)\n",
        "\n",
        "if bmi < 18.5 :\n",
        "  print (\"badan kita di bawah normal\")\n",
        "elif bmi>= 18.5 & bmi <= 24.9 :\n",
        "  print (\"berat badan kita normal\")\n",
        "elif bmi >=25 & bmi<=29.9 :\n",
        "  print (\"berat badan kita berlebih\")\n",
        "else:\n",
        "  print (\"obesitas\")\n"
      ],
      "metadata": {
        "id": "5agRiU-laPsF",
        "colab": {
          "base_uri": "https://localhost:8080/"
        },
        "outputId": "2d2dc343-f7b0-4599-9abd-5be345ad096a"
      },
      "execution_count": null,
      "outputs": [
        {
          "output_type": "stream",
          "name": "stdout",
          "text": [
            "isi berat badan kita:69\n",
            "isi tinggi badan kita:172\n",
            "bmi-nya adalah 0.002332341806381828\n",
            "badan kita di bawah normal\n"
          ]
        }
      ]
    },
    {
      "cell_type": "markdown",
      "source": [
        "# function"
      ],
      "metadata": {
        "id": "8ObEEVzPC6ts"
      }
    },
    {
      "cell_type": "code",
      "source": [
        "# Basic function  f(x) = 5x + 10 -> f(5) = 5(5) + 10 = 35\n",
        "\n",
        "def function1():\n",
        "  print('kita belajar funtion dalam python')"
      ],
      "metadata": {
        "id": "BlfGzNT0C5gD"
      },
      "execution_count": null,
      "outputs": []
    },
    {
      "cell_type": "code",
      "source": [
        "function1()"
      ],
      "metadata": {
        "colab": {
          "base_uri": "https://localhost:8080/"
        },
        "id": "LbR9vUp3b7ru",
        "outputId": "8ccee452-260e-41d5-b161-9ad69ee2a099"
      },
      "execution_count": null,
      "outputs": [
        {
          "output_type": "stream",
          "name": "stdout",
          "text": [
            "kita belajar funtion dalam python\n"
          ]
        }
      ]
    },
    {
      "cell_type": "code",
      "source": [
        "def nama_functionnya_apa():\n",
        "  print('kita belajar function')"
      ],
      "metadata": {
        "id": "Rq7PdJy3DTuY"
      },
      "execution_count": null,
      "outputs": []
    },
    {
      "cell_type": "code",
      "source": [
        "nama_functionnya_apa()"
      ],
      "metadata": {
        "id": "3pHAL9XdDh_3",
        "colab": {
          "base_uri": "https://localhost:8080/"
        },
        "outputId": "b3e8e535-66a2-4979-8d95-7f779c696761"
      },
      "execution_count": null,
      "outputs": [
        {
          "output_type": "stream",
          "name": "stdout",
          "text": [
            "kita belajar function\n"
          ]
        }
      ]
    },
    {
      "cell_type": "code",
      "source": [
        "function1()"
      ],
      "metadata": {
        "id": "96Xv0qTQDnAO",
        "colab": {
          "base_uri": "https://localhost:8080/"
        },
        "outputId": "26bc8244-047b-4164-a336-790ee607a936"
      },
      "execution_count": null,
      "outputs": [
        {
          "output_type": "stream",
          "name": "stdout",
          "text": [
            "kita belajar funtion dalam python\n"
          ]
        }
      ]
    },
    {
      "cell_type": "code",
      "source": [
        "x = 2"
      ],
      "metadata": {
        "id": "qclwhrlgdKnz"
      },
      "execution_count": null,
      "outputs": []
    },
    {
      "cell_type": "code",
      "source": [
        "X"
      ],
      "metadata": {
        "colab": {
          "base_uri": "https://localhost:8080/",
          "height": 144
        },
        "id": "yEM_9AqxdNQJ",
        "outputId": "d1b70990-d1a7-4806-fba2-5deb40a46496"
      },
      "execution_count": null,
      "outputs": [
        {
          "output_type": "error",
          "ename": "NameError",
          "evalue": "name 'X' is not defined",
          "traceback": [
            "\u001b[0;31m---------------------------------------------------------------------------\u001b[0m",
            "\u001b[0;31mNameError\u001b[0m                                 Traceback (most recent call last)",
            "\u001b[0;32m<ipython-input-12-b5fec669aca1>\u001b[0m in \u001b[0;36m<cell line: 1>\u001b[0;34m()\u001b[0m\n\u001b[0;32m----> 1\u001b[0;31m \u001b[0mX\u001b[0m\u001b[0;34m\u001b[0m\u001b[0;34m\u001b[0m\u001b[0m\n\u001b[0m",
            "\u001b[0;31mNameError\u001b[0m: name 'X' is not defined"
          ]
        }
      ]
    },
    {
      "cell_type": "code",
      "source": [
        "# function with argumen/parameter\n",
        "def my_function(fname,lname):\n",
        "  print(fname+\" \"+lname)"
      ],
      "metadata": {
        "id": "B5wypFT0E5rW"
      },
      "execution_count": null,
      "outputs": []
    },
    {
      "cell_type": "code",
      "source": [
        "def ini_function_buat_manggil_nama_lengkap(first_name,last_name):\n",
        "  print(first_name+\" \"+ last_name)"
      ],
      "metadata": {
        "id": "KLWK5LkXI5VE"
      },
      "execution_count": null,
      "outputs": []
    },
    {
      "cell_type": "code",
      "source": [
        "alda = 'alda'\n",
        "aqdam = 'aqdam'\n",
        "\n",
        "ini_function_buat_manggil_nama_lengkap(alda,aqdam)"
      ],
      "metadata": {
        "id": "CIkqMQUtJ4-K",
        "colab": {
          "base_uri": "https://localhost:8080/"
        },
        "outputId": "63c47e37-ba6c-4b34-aa60-d0ea9c6b64ef"
      },
      "execution_count": null,
      "outputs": [
        {
          "output_type": "stream",
          "name": "stdout",
          "text": [
            "alda aqdam\n"
          ]
        }
      ]
    },
    {
      "cell_type": "code",
      "source": [
        "my_function('putri','titian')"
      ],
      "metadata": {
        "id": "D5nVExEoIgB_",
        "colab": {
          "base_uri": "https://localhost:8080/"
        },
        "outputId": "af07e82f-90fb-496d-ddc1-236542b04876"
      },
      "execution_count": null,
      "outputs": [
        {
          "output_type": "stream",
          "name": "stdout",
          "text": [
            "putri titian\n"
          ]
        }
      ]
    },
    {
      "cell_type": "code",
      "source": [
        "def luas_segitiga(a,t):\n",
        "  luas = 1/2*a*t\n",
        "  print(luas)"
      ],
      "metadata": {
        "id": "LbZGQdNcA_qp"
      },
      "execution_count": null,
      "outputs": []
    },
    {
      "cell_type": "code",
      "source": [
        "luas_segitiga(5,10)"
      ],
      "metadata": {
        "colab": {
          "base_uri": "https://localhost:8080/"
        },
        "id": "xSDnM5zQd1Yd",
        "outputId": "d281544b-c7b9-4106-e7ba-e9dd04b94275"
      },
      "execution_count": null,
      "outputs": [
        {
          "output_type": "stream",
          "name": "stdout",
          "text": [
            "25.0\n"
          ]
        }
      ]
    },
    {
      "cell_type": "code",
      "source": [
        "luas_segitiga(2,10)"
      ],
      "metadata": {
        "id": "0lSNGpgaBqSR",
        "colab": {
          "base_uri": "https://localhost:8080/"
        },
        "outputId": "4f186311-050f-4398-bd9e-b699f2402bff"
      },
      "execution_count": null,
      "outputs": [
        {
          "output_type": "stream",
          "name": "stdout",
          "text": [
            "10.0\n"
          ]
        }
      ]
    },
    {
      "cell_type": "code",
      "source": [
        "def luas_segiempat(s1,s2):\n",
        "  print(s1*s2)"
      ],
      "metadata": {
        "id": "QIv8ERZrB4uS"
      },
      "execution_count": null,
      "outputs": []
    },
    {
      "cell_type": "code",
      "source": [
        "luas_segiempat(5,5)"
      ],
      "metadata": {
        "id": "IbQETEdJCLhL",
        "colab": {
          "base_uri": "https://localhost:8080/"
        },
        "outputId": "4e0f0ce5-4545-4ccd-d0ac-e2fcf2266807"
      },
      "execution_count": null,
      "outputs": [
        {
          "output_type": "stream",
          "name": "stdout",
          "text": [
            "25\n"
          ]
        }
      ]
    },
    {
      "cell_type": "code",
      "source": [
        "#default parameter\n",
        "def my_function(country = 'norway'):\n",
        "  print(\"I am from \" + country)"
      ],
      "metadata": {
        "id": "yVncAP76C0aI"
      },
      "execution_count": null,
      "outputs": []
    },
    {
      "cell_type": "code",
      "source": [
        "my_function()"
      ],
      "metadata": {
        "id": "P3UZyaWSDRuQ",
        "colab": {
          "base_uri": "https://localhost:8080/"
        },
        "outputId": "e382b37a-a823-4f96-dec5-e6345fb7acdf"
      },
      "execution_count": null,
      "outputs": [
        {
          "output_type": "stream",
          "name": "stdout",
          "text": [
            "I am from norway\n"
          ]
        }
      ]
    },
    {
      "cell_type": "code",
      "source": [
        "my_function(\"Indonesia\")"
      ],
      "metadata": {
        "id": "EnzXr71uDeAK",
        "colab": {
          "base_uri": "https://localhost:8080/"
        },
        "outputId": "988e8de4-8a29-42d6-a928-f6a5160f5e2a"
      },
      "execution_count": null,
      "outputs": [
        {
          "output_type": "stream",
          "name": "stdout",
          "text": [
            "I am from Indonesia\n"
          ]
        }
      ]
    },
    {
      "cell_type": "code",
      "source": [
        "my_function(\"Brazil\")"
      ],
      "metadata": {
        "id": "xXVnIHsKDlIF",
        "colab": {
          "base_uri": "https://localhost:8080/"
        },
        "outputId": "36416af3-27a9-4375-9f4c-16aae39b9766"
      },
      "execution_count": null,
      "outputs": [
        {
          "output_type": "stream",
          "name": "stdout",
          "text": [
            "I am from Brazil\n"
          ]
        }
      ]
    },
    {
      "cell_type": "code",
      "source": [
        "# list as an argument\n",
        "def my_function(food):\n",
        "  for x in food:\n",
        "    print(x)"
      ],
      "metadata": {
        "id": "b0kmyNxlEkBj"
      },
      "execution_count": null,
      "outputs": []
    },
    {
      "cell_type": "code",
      "source": [
        "fruits = ['apple','banana','cherry']\n",
        "\n",
        "my_function(fruits)"
      ],
      "metadata": {
        "id": "ndA-1lthEliw",
        "colab": {
          "base_uri": "https://localhost:8080/"
        },
        "outputId": "b2848a8c-a2f5-4eb4-b39f-4cb757d62917"
      },
      "execution_count": null,
      "outputs": [
        {
          "output_type": "stream",
          "name": "stdout",
          "text": [
            "apple\n",
            "banana\n",
            "cherry\n"
          ]
        }
      ]
    },
    {
      "cell_type": "code",
      "source": [
        "print(fruits)"
      ],
      "metadata": {
        "id": "4vFJhRHjFQdp",
        "colab": {
          "base_uri": "https://localhost:8080/"
        },
        "outputId": "1140491c-1acc-4089-b461-06128b8a129e"
      },
      "execution_count": null,
      "outputs": [
        {
          "output_type": "stream",
          "name": "stdout",
          "text": [
            "['apple', 'banana', 'cherry']\n"
          ]
        }
      ]
    },
    {
      "cell_type": "code",
      "source": [
        "for buah in fruits : # wadah buah mengaandung apple, banana, sama cherry\n",
        "  print(buah)"
      ],
      "metadata": {
        "id": "P_PELAgjFezq"
      },
      "execution_count": null,
      "outputs": []
    },
    {
      "cell_type": "code",
      "source": [
        "#return function\n",
        "\n",
        "def luas_segitiga2(a,t):\n",
        "  luas = 1/2*a*t\n",
        "  return luas"
      ],
      "metadata": {
        "id": "94lsElVPFyY-"
      },
      "execution_count": null,
      "outputs": []
    },
    {
      "cell_type": "code",
      "source": [
        "def luas_segitiga2b(a,t):\n",
        "  luas = 1/2*a*t\n",
        "  print(luas)"
      ],
      "metadata": {
        "id": "aO9Gxrn-gKMj"
      },
      "execution_count": null,
      "outputs": []
    },
    {
      "cell_type": "code",
      "source": [
        "luas_segitiga2(10,2)"
      ],
      "metadata": {
        "id": "KCQSkIQPJVBi",
        "colab": {
          "base_uri": "https://localhost:8080/"
        },
        "outputId": "4b036bd0-bc00-4e15-fa6e-fa910fc2ffbd"
      },
      "execution_count": null,
      "outputs": [
        {
          "output_type": "execute_result",
          "data": {
            "text/plain": [
              "10.0"
            ]
          },
          "metadata": {},
          "execution_count": 32
        }
      ]
    },
    {
      "cell_type": "code",
      "source": [
        "luas_segitiga2b(10,2)"
      ],
      "metadata": {
        "colab": {
          "base_uri": "https://localhost:8080/"
        },
        "id": "Pq70yfIFgPCz",
        "outputId": "8084825c-ea8e-4390-931b-fd02d90055af"
      },
      "execution_count": null,
      "outputs": [
        {
          "output_type": "stream",
          "name": "stdout",
          "text": [
            "10.0\n"
          ]
        }
      ]
    },
    {
      "cell_type": "code",
      "source": [
        "def duakali_luas_segitiga(luas_segitiga2):\n",
        "  total_luas = 2*luas_segitiga2\n",
        "  print(total_luas)"
      ],
      "metadata": {
        "id": "6vBdBmQwHqDR"
      },
      "execution_count": null,
      "outputs": []
    },
    {
      "cell_type": "code",
      "source": [
        "duakali_luas_segitiga(luas_segitiga2(10,2))"
      ],
      "metadata": {
        "id": "X4JGsmpiIK9t",
        "colab": {
          "base_uri": "https://localhost:8080/"
        },
        "outputId": "d4325e19-8e18-4f54-eaac-e517818bd0cb"
      },
      "execution_count": null,
      "outputs": [
        {
          "output_type": "stream",
          "name": "stdout",
          "text": [
            "20.0\n"
          ]
        }
      ]
    },
    {
      "cell_type": "code",
      "source": [
        "duakali_luas_segitiga(luas_segitiga2b(10,2))"
      ],
      "metadata": {
        "colab": {
          "base_uri": "https://localhost:8080/",
          "height": 250
        },
        "id": "1wuhS6kjhlEP",
        "outputId": "ea4e783d-ef43-406c-a190-8b8384419808"
      },
      "execution_count": null,
      "outputs": [
        {
          "output_type": "stream",
          "name": "stdout",
          "text": [
            "10.0\n"
          ]
        },
        {
          "output_type": "error",
          "ename": "TypeError",
          "evalue": "unsupported operand type(s) for *: 'int' and 'NoneType'",
          "traceback": [
            "\u001b[0;31m---------------------------------------------------------------------------\u001b[0m",
            "\u001b[0;31mTypeError\u001b[0m                                 Traceback (most recent call last)",
            "\u001b[0;32m<ipython-input-38-d1381490df0d>\u001b[0m in \u001b[0;36m<cell line: 1>\u001b[0;34m()\u001b[0m\n\u001b[0;32m----> 1\u001b[0;31m \u001b[0mduakali_luas_segitiga\u001b[0m\u001b[0;34m(\u001b[0m\u001b[0mluas_segitiga2b\u001b[0m\u001b[0;34m(\u001b[0m\u001b[0;36m10\u001b[0m\u001b[0;34m,\u001b[0m\u001b[0;36m2\u001b[0m\u001b[0;34m)\u001b[0m\u001b[0;34m)\u001b[0m\u001b[0;34m\u001b[0m\u001b[0;34m\u001b[0m\u001b[0m\n\u001b[0m",
            "\u001b[0;32m<ipython-input-35-48cad8c4a713>\u001b[0m in \u001b[0;36mduakali_luas_segitiga\u001b[0;34m(luas_segitiga2)\u001b[0m\n\u001b[1;32m      1\u001b[0m \u001b[0;32mdef\u001b[0m \u001b[0mduakali_luas_segitiga\u001b[0m\u001b[0;34m(\u001b[0m\u001b[0mluas_segitiga2\u001b[0m\u001b[0;34m)\u001b[0m\u001b[0;34m:\u001b[0m\u001b[0;34m\u001b[0m\u001b[0;34m\u001b[0m\u001b[0m\n\u001b[0;32m----> 2\u001b[0;31m   \u001b[0mtotal_luas\u001b[0m \u001b[0;34m=\u001b[0m \u001b[0;36m2\u001b[0m\u001b[0;34m*\u001b[0m\u001b[0mluas_segitiga2\u001b[0m\u001b[0;34m\u001b[0m\u001b[0;34m\u001b[0m\u001b[0m\n\u001b[0m\u001b[1;32m      3\u001b[0m   \u001b[0mprint\u001b[0m\u001b[0;34m(\u001b[0m\u001b[0mtotal_luas\u001b[0m\u001b[0;34m)\u001b[0m\u001b[0;34m\u001b[0m\u001b[0;34m\u001b[0m\u001b[0m\n",
            "\u001b[0;31mTypeError\u001b[0m: unsupported operand type(s) for *: 'int' and 'NoneType'"
          ]
        }
      ]
    },
    {
      "cell_type": "code",
      "source": [
        "bal = 565\n",
        "\n",
        "def addmoney(m):\n",
        "  global bal\n",
        "  bal += m # sama saja kaya -> bal= bal+m\n",
        "  return f'Current Balance : ${bal}'"
      ],
      "metadata": {
        "id": "kvDhsBUaKGiP"
      },
      "execution_count": null,
      "outputs": []
    },
    {
      "cell_type": "code",
      "source": [
        "addmoney(200)"
      ],
      "metadata": {
        "id": "r0jdMLNFLRED",
        "colab": {
          "base_uri": "https://localhost:8080/",
          "height": 35
        },
        "outputId": "3ba81d8f-0704-4c4a-98e3-ebc095b7a833"
      },
      "execution_count": null,
      "outputs": [
        {
          "output_type": "execute_result",
          "data": {
            "text/plain": [
              "'Current Balance : $765'"
            ],
            "application/vnd.google.colaboratory.intrinsic+json": {
              "type": "string"
            }
          },
          "metadata": {},
          "execution_count": 42
        }
      ]
    },
    {
      "cell_type": "code",
      "source": [
        "bal = 565\n",
        "\n",
        "def submoney(m):\n",
        "  global bal\n",
        "  bal -= m # sama saja kaya -> bal= bal-m\n",
        "  return f'Current Balance : ${bal}'"
      ],
      "metadata": {
        "id": "PnGKQaIvKRWy"
      },
      "execution_count": null,
      "outputs": []
    },
    {
      "cell_type": "code",
      "source": [
        "submoney(50)"
      ],
      "metadata": {
        "id": "_2rnPMV-L7hv",
        "colab": {
          "base_uri": "https://localhost:8080/",
          "height": 35
        },
        "outputId": "0d6220f7-890e-409c-8b7a-3f367a235270"
      },
      "execution_count": null,
      "outputs": [
        {
          "output_type": "execute_result",
          "data": {
            "text/plain": [
              "'Current Balance : $515'"
            ],
            "application/vnd.google.colaboratory.intrinsic+json": {
              "type": "string"
            }
          },
          "metadata": {},
          "execution_count": 44
        }
      ]
    },
    {
      "cell_type": "code",
      "source": [
        "bal = 565\n",
        "\n",
        "def addmoney(m):\n",
        "  global bal\n",
        "  bal += m # sama saja kaya -> bal= bal+m\n",
        "  return f'Current Balance : ${bal}'\n",
        "\n",
        "def submoney(m):\n",
        "  global bal\n",
        "  bal -= m # sama saja kaya -> bal= bal-m\n",
        "  return f'Current Balance : ${bal}'"
      ],
      "metadata": {
        "id": "_j_YdscSMLbB"
      },
      "execution_count": null,
      "outputs": []
    },
    {
      "cell_type": "code",
      "source": [
        "def main(money,sign):\n",
        "  global bal\n",
        "  if sign == '-':\n",
        "    return submoney(money)\n",
        "  elif sign == '+':\n",
        "    return addmoney(money)\n",
        "  else:\n",
        "    return print('incorrect input!')"
      ],
      "metadata": {
        "id": "Yp0XkP1eM8TA"
      },
      "execution_count": null,
      "outputs": []
    },
    {
      "cell_type": "code",
      "source": [
        "amt = int(input('enter amount: '))\n",
        "sign = input ('debit(-) or credit(+): ')"
      ],
      "metadata": {
        "id": "B_qkdVSZNupj",
        "colab": {
          "base_uri": "https://localhost:8080/"
        },
        "outputId": "ce620ba2-d9f2-4393-e358-cb82f9d18ff8"
      },
      "execution_count": null,
      "outputs": [
        {
          "name": "stdout",
          "output_type": "stream",
          "text": [
            "enter amount: 50\n",
            "debit(-) or credit(+): -\n"
          ]
        }
      ]
    },
    {
      "cell_type": "code",
      "source": [
        "amt"
      ],
      "metadata": {
        "id": "FKRX-xe-Os0p",
        "colab": {
          "base_uri": "https://localhost:8080/"
        },
        "outputId": "ce2f5395-158d-4d0a-bf57-2a31a49f24b5"
      },
      "execution_count": null,
      "outputs": [
        {
          "output_type": "execute_result",
          "data": {
            "text/plain": [
              "50"
            ]
          },
          "metadata": {},
          "execution_count": 55
        }
      ]
    },
    {
      "cell_type": "code",
      "source": [
        "sign"
      ],
      "metadata": {
        "id": "-eo9u5InOwzn",
        "colab": {
          "base_uri": "https://localhost:8080/",
          "height": 35
        },
        "outputId": "92a5d08a-5739-4c1d-ee00-de8e0e190bea"
      },
      "execution_count": null,
      "outputs": [
        {
          "output_type": "execute_result",
          "data": {
            "text/plain": [
              "'-'"
            ],
            "application/vnd.google.colaboratory.intrinsic+json": {
              "type": "string"
            }
          },
          "metadata": {},
          "execution_count": 54
        }
      ]
    },
    {
      "cell_type": "code",
      "source": [
        "main(amt,sign)"
      ],
      "metadata": {
        "id": "FDw3jRMFPEct",
        "colab": {
          "base_uri": "https://localhost:8080/",
          "height": 35
        },
        "outputId": "c785604b-abc7-4671-d249-1baa5db8e5f9"
      },
      "execution_count": null,
      "outputs": [
        {
          "output_type": "execute_result",
          "data": {
            "text/plain": [
              "'Current Balance : $515'"
            ],
            "application/vnd.google.colaboratory.intrinsic+json": {
              "type": "string"
            }
          },
          "metadata": {},
          "execution_count": 61
        }
      ]
    },
    {
      "cell_type": "code",
      "source": [],
      "metadata": {
        "id": "NzMDwCnIpHqm"
      },
      "execution_count": null,
      "outputs": []
    },
    {
      "cell_type": "markdown",
      "source": [
        "1. Buat program Python sederhana yang memeriksa apakah angka yang dimasukkan oleh pengguna adalah bilangan ganjil atau genap. Tampilkan pesan yang sesuai.\n",
        "2. Buat program Python untuk menghitung dan mencetak jumlah bilangan dari 1 hingga n (n adalah bilangan bulat positif) dengan menggunakan loop while.\n",
        "3. Buat program Python yang mencetak angka dari 1 hingga 10 menggunakan loop for.\n",
        "4.Buat fungsi Python yang mengalikan dua angka yang diberikan oleh pengguna dan mengembalikan hasilnya.\n",
        "5. Buat program Python sederhana yang memeriksa apakah seorang pengguna boleh memilih atau tidak berdasarkan usia (usia >= 18). Tampilkan pesan yang sesuai.\n",
        "6.Buat program Python yang menghitung jumlah digit dalam suatu angka bulat yang dimasukkan oleh pengguna.\n",
        "7. Buat fungsi Python yang mengembalikan bilangan terbesar dari dua bilangan yang dimasukkan oleh pengguna.\n",
        "8. Buat sebuah fungsi bernama `luas_persegi_panjang` yang menerima dua parameter, panjang dan lebar, dan mengembalikan luas dari persegi panjang tersebut.\n",
        "9.  Buat sebuah fungsi Python yang menghitung jumlah huruf vokal dalam sebuah string yang dimasukkan oleh pengguna.\n",
        "10.  Buat sebuah fungsi bernama `hitung_karakter` yang menerima dua parameter, sebuah string dan sebuah karakter, dan mengembalikan jumlah kemunculan karakter tersebut dalam string tersebut.\n",
        "11. Buat sebuah fungsi bernama `hitung_volume_tabung` yang menerima dua parameter, jari-jari dan tinggi tabung, dan mengembalikan volume tabung tersebut. Formula volume tabung: Volume = π * r^2 * h, dengan π (pi) ≈ 3.14159.\n",
        "12. Buat sebuah fungsi bernama `gabung_string` yang menerima dua string dan mengembalikan hasil penggabungan kedua string tersebut dengan satu spasi di antara keduanya."
      ],
      "metadata": {
        "id": "7CzhFZeTssnX"
      }
    },
    {
      "cell_type": "code",
      "source": [
        "#1\n",
        "\n",
        "# Menggunakan Function\n",
        "def ganjil_genap (angka):\n",
        "  if angka %2 == 0:\n",
        "    print(angka,\"Merupakan bilangan genap\")\n",
        "  else :\n",
        "    print(angka,\"Merupakan bilangan ganjil\")\n",
        "\n",
        "\n",
        "angka = int(input(\"Masukkan angka: \"))\n",
        "ganjil_genap(angka)"
      ],
      "metadata": {
        "id": "Y7a0K0fUtZB3",
        "colab": {
          "base_uri": "https://localhost:8080/"
        },
        "outputId": "8f1908d5-dd94-4d43-fb99-ccf52ab09dae"
      },
      "execution_count": null,
      "outputs": [
        {
          "output_type": "stream",
          "name": "stdout",
          "text": [
            "Masukkan angka: 55\n",
            "55 Merupakan bilangan ganjil\n"
          ]
        }
      ]
    },
    {
      "cell_type": "code",
      "source": [
        "#2 Buat program Python untuk menghitung dan mencetak jumlah bilangan dari 1 hingga n (n adalah bilangan bulat positif) dengan menggunakan loop while.\n",
        "\n",
        "n = int(input(\"masukin bilangan bulat positif\"))\n",
        "x = 1\n",
        "jumlah = 0\n",
        "\n",
        "while x <= n:\n",
        "  jumlah += 1\n",
        "  x += 1\n",
        "\n",
        "print(f'jumlah bilangan dari 1 hingga {n} adalah {jumlah}')"
      ],
      "metadata": {
        "colab": {
          "base_uri": "https://localhost:8080/"
        },
        "id": "eJrn4Vrv0Js5",
        "outputId": "c674d580-808b-4035-f96e-4ecca3e10e5e"
      },
      "execution_count": null,
      "outputs": [
        {
          "output_type": "stream",
          "name": "stdout",
          "text": [
            "masukin bilangan bulat positif16\n",
            "jumlah bilangan dari 1 hingga 16 adalah 16\n"
          ]
        }
      ]
    },
    {
      "cell_type": "code",
      "source": [
        "#3\n",
        "\n",
        "for angka in range(1, 11):\n",
        "    print(angka)"
      ],
      "metadata": {
        "colab": {
          "base_uri": "https://localhost:8080/"
        },
        "id": "hPosWFDb08h3",
        "outputId": "469f756e-7926-4d32-d705-e3e1dbe2e266"
      },
      "execution_count": null,
      "outputs": [
        {
          "output_type": "stream",
          "name": "stdout",
          "text": [
            "1\n",
            "2\n",
            "3\n",
            "4\n",
            "5\n",
            "6\n",
            "7\n",
            "8\n",
            "9\n",
            "10\n"
          ]
        }
      ]
    },
    {
      "cell_type": "code",
      "source": [
        "#4\n",
        "\n",
        "def kaldu():\n",
        "  angka1 = float(input('Masukan angka pertama: '))\n",
        "  angka2 = float(input('Masukan angka kedua: '))\n",
        "  hasil = angka1*angka2\n",
        "  return hasil\n",
        "\n",
        "print('Hasil perkalian adalah: ',kaldu())"
      ],
      "metadata": {
        "colab": {
          "base_uri": "https://localhost:8080/"
        },
        "id": "rcqTqPnx1WWU",
        "outputId": "9332602f-f331-46e9-872a-4f4e01b7e2a8"
      },
      "execution_count": null,
      "outputs": [
        {
          "output_type": "stream",
          "name": "stdout",
          "text": [
            "Masukan angka pertama: 5\n",
            "Masukan angka kedua: 4\n",
            "Hasil perkalian adalah:  20.0\n"
          ]
        }
      ]
    },
    {
      "cell_type": "code",
      "source": [
        "#No. 5\n",
        "\n",
        "usia = int(input(\"Masukkan usia: \"))\n",
        "\n",
        "if usia >= 18:\n",
        "    print(\"Anda boleh memilih.\")\n",
        "else:\n",
        "    print(\"Anda belum boleh memilih.\")"
      ],
      "metadata": {
        "colab": {
          "base_uri": "https://localhost:8080/"
        },
        "id": "w2fwKB_l1xxz",
        "outputId": "4032abef-17fb-4a0c-a26f-f07dad2add7f"
      },
      "execution_count": null,
      "outputs": [
        {
          "output_type": "stream",
          "name": "stdout",
          "text": [
            "Masukkan usia: 22\n",
            "Anda boleh memilih.\n"
          ]
        }
      ]
    },
    {
      "cell_type": "code",
      "source": [
        "#6\n",
        "\n",
        "angka = float(input('Masukkan angka kamu: '))\n",
        "angka_bulat = int(angka)\n",
        "\n",
        "jumlah_digit = len(str(angka_bulat))\n",
        "print(angka_bulat)\n",
        "print('Digit angka kamu ada', jumlah_digit, 'digit')"
      ],
      "metadata": {
        "colab": {
          "base_uri": "https://localhost:8080/"
        },
        "id": "bimjVaao3DSo",
        "outputId": "bf663dbb-a9e5-4439-84fa-96637f8574fd"
      },
      "execution_count": null,
      "outputs": [
        {
          "output_type": "stream",
          "name": "stdout",
          "text": [
            "Masukkan angka kamu: 23682134832.999\n",
            "23682134832\n",
            "Digit angka kamu ada 11 digit\n"
          ]
        }
      ]
    },
    {
      "cell_type": "code",
      "source": [
        "#7\n",
        "# Buat fungsi Python yang mengembalikan bilangan terbesar dari dua bilangan yang dimasukkan oleh pengguna.\n",
        "def bilangan_terbesar(angka1, angka2):\n",
        "    return max(angka1, angka2)\n",
        "\n",
        "angka1 = int(input(\"Masukkan angka pertama: \"))\n",
        "angka2 = int(input(\"Masukkan angka kedua: \"))\n",
        "print(\"Bilangan terbesar:\", bilangan_terbesar(angka1, angka2))"
      ],
      "metadata": {
        "colab": {
          "base_uri": "https://localhost:8080/"
        },
        "id": "VyDqObyE4TAi",
        "outputId": "ca0760b7-db0a-4d87-fb32-3feb3b096716"
      },
      "execution_count": null,
      "outputs": [
        {
          "output_type": "stream",
          "name": "stdout",
          "text": [
            "Masukkan angka pertama: 5\n",
            "Masukkan angka kedua: 10\n",
            "Bilangan terbesar: 10\n"
          ]
        }
      ]
    },
    {
      "cell_type": "code",
      "source": [
        "#8\n",
        "\n",
        "def luas_persegi_panjang(panjang, lebar):\n",
        "    luas = panjang * lebar\n",
        "    return luas\n",
        "\n",
        "panjang = float(input(\"Masukan nilai panjang : \" ))\n",
        "lebar =  float(input(\"Masukan nilai lebar : \" ))\n",
        "hasil = luas_persegi_panjang(panjang, lebar)\n",
        "print(\"Luas persegi panjang adalah\" , hasil)"
      ],
      "metadata": {
        "colab": {
          "base_uri": "https://localhost:8080/"
        },
        "id": "d4NtW4CY404t",
        "outputId": "49cb1642-1f7e-4146-a374-dfe973302a87"
      },
      "execution_count": null,
      "outputs": [
        {
          "output_type": "stream",
          "name": "stdout",
          "text": [
            "Masukan nilai panjang : 10\n",
            "Masukan nilai lebar : 15\n",
            "Luas persegi panjang adalah 150.0\n"
          ]
        }
      ]
    },
    {
      "cell_type": "code",
      "source": [
        "# No 9\n",
        "def hitung_vokal(kalimat):\n",
        "  vokal = 'aiueo'\n",
        "  jumlah = 0\n",
        "  for huruf in kalimat:\n",
        "    if huruf in vokal:\n",
        "      jumlah += 1\n",
        "  return jumlah\n",
        "\n",
        "\n",
        "k = input('Masukkan kata : ').lower()\n",
        "hitung_vokal(k)"
      ],
      "metadata": {
        "colab": {
          "base_uri": "https://localhost:8080/"
        },
        "id": "2vGLeHKX5fQi",
        "outputId": "c636e39d-f002-4124-9d32-18b52f270140"
      },
      "execution_count": null,
      "outputs": [
        {
          "name": "stdout",
          "output_type": "stream",
          "text": [
            "Masukkan kata : bAstiAn\n"
          ]
        },
        {
          "output_type": "execute_result",
          "data": {
            "text/plain": [
              "3"
            ]
          },
          "metadata": {},
          "execution_count": 18
        }
      ]
    },
    {
      "cell_type": "code",
      "source": [
        "#10\n",
        "\n",
        "def hitung_karakter(string, karakter):\n",
        "    jumlah_kemunculan = 0\n",
        "\n",
        "    for huruf in string:\n",
        "        if huruf == karakter:\n",
        "            jumlah_kemunculan += 1\n",
        "    return jumlah_kemunculan\n",
        "\n",
        "kalimat = input(\"Masukkan sebuah kalimat: \")\n",
        "karakter = input(\"Masukkan sebuah karakter: \")\n",
        "\n",
        "print(\"Jumlah kemunculan karakter dalam kalimat adalah:\", hitung_karakter(kalimat, karakter))"
      ],
      "metadata": {
        "colab": {
          "base_uri": "https://localhost:8080/"
        },
        "id": "Cd5TgQAo5gXD",
        "outputId": "c60805cc-8330-4268-bc81-d9b993932c25"
      },
      "execution_count": null,
      "outputs": [
        {
          "output_type": "stream",
          "name": "stdout",
          "text": [
            "Masukkan sebuah kalimat: ayam\n",
            "Masukkan sebuah karakter: a\n",
            "Jumlah kemunculan karakter dalam kalimat adalah: 2\n"
          ]
        }
      ]
    },
    {
      "cell_type": "code",
      "source": [
        "#11\n",
        "\n",
        "def hitung_volume_tabung(jari_jari, tinggi):\n",
        "    pi = 3.14159\n",
        "    volume = pi * jari_jari ** 2 * tinggi\n",
        "    return volume\n",
        "\n",
        "jari_jari = float(input(\"Masukkan jari-jari tabung: \"))\n",
        "tinggi = float(input(\"Masukkan tinggi tabung: \"))\n",
        "\n",
        "hasil_volume = hitung_volume_tabung(jari_jari, tinggi)\n",
        "print(\"Volume tabung dengan jari-jari\", jari_jari, \"dan tinggi\", tinggi, \"adalah:\", hasil_volume)"
      ],
      "metadata": {
        "colab": {
          "base_uri": "https://localhost:8080/"
        },
        "id": "SUajPdtB6xVk",
        "outputId": "556d48d5-0a08-4385-d81e-394de94d860b"
      },
      "execution_count": null,
      "outputs": [
        {
          "output_type": "stream",
          "name": "stdout",
          "text": [
            "Masukkan jari-jari tabung: 16\n",
            "Masukkan tinggi tabung: 20\n",
            "Volume tabung dengan jari-jari 16.0 dan tinggi 20.0 adalah: 16084.9408\n"
          ]
        }
      ]
    },
    {
      "cell_type": "code",
      "source": [
        "# no_12 Buat sebuah fungsi bernama gabung_string yang menerima dua string dan mengembalikan hasil penggabungan kedua string tersebut dengan satu spasi di antara keduanya.\n",
        "def gabung_string(Grass, Bubble):\n",
        "    return Grass + \" \" + Bubble #ngembaliin hasil penggabungan dari 2 string Grass sama Bubble,\n",
        "                                #anu ngke didisimpn ke variabel hasil_gabung ketika fungsi gabung_string dipanggil\n",
        "\n",
        "Grass = \"Halo Bubble You Eligible Sakeur Hunter?\"\n",
        "Bubble = \"Muhun Abdi Elig Hunter🥰\"\n",
        "hasil_gabung = gabung_string(Grass, Bubble)\n",
        "print(\"Hasil Digabung:\", hasil_gabung)  # yang dimana nanti nilainya itu dikembalikn oleh gabung_string akan menjadi nilai dari variabel hasil_gabung."
      ],
      "metadata": {
        "colab": {
          "base_uri": "https://localhost:8080/"
        },
        "id": "byQPrpan8wgm",
        "outputId": "cbc77a48-d1da-4f53-e46d-4ef5ba32eb90"
      },
      "execution_count": null,
      "outputs": [
        {
          "output_type": "stream",
          "name": "stdout",
          "text": [
            "Hasil Digabung: Halo Bubble You Eligible Sakeur Hunter? Muhun Abdi Elig Hunter🥰\n"
          ]
        }
      ]
    },
    {
      "cell_type": "markdown",
      "source": [
        "##### Latihan\n",
        "\n",
        "1. Buat sebuah program Python yang menghitung jumlah bilangan genap dari 1 hingga 10 menggunakan looping.\n",
        "\n",
        "2. Buat sebuah program Python yang mencetak \"Hello, World!\" jika sebuah variabel boolean bernilai True, dan mencetak \"Goodbye, World!\" jika variabel tersebut bernilai False.\n",
        "\n",
        "3. Buat sebuah fungsi Python yang menerima dua parameter bilangan bulat, lalu mengembalikan hasil penjumlahan dari kedua bilangan tersebut.\n",
        "\n",
        "4. Buat sebuah program Python yang mencetak bilangan ganjil dari 1 hingga 10 menggunakan looping.\n",
        "\n",
        "5. Buat sebuah fungsi Python yang menerima sebuah daftar (list) bilangan dan mengembalikan jumlah semua elemen dalam daftar tersebut.\n",
        "\n",
        "6. Buat sebuah program Python yang mencetak \"Selamat Pagi!\" jika waktu saat ini kurang dari atau sama dengan pukul 12, dan mencetak \"Selamat Siang!\" jika waktu saat ini lebih dari pukul 12.\n",
        "\n",
        "7. Buat sebuah fungsi Python yang menerima sebuah string dan mengembalikan string tersebut dalam kebalikan urutan.\n",
        "\n",
        "8. Buat sebuah program Python yang mencetak angka 1 hingga 5 menggunakan looping for.\n",
        "\n",
        "9. Buat sebuah program Python yang mencetak semua bilangan prima dari 1 hingga 20.\n",
        "\n",
        "10. Buat sebuah program Python yang menghitung jumlah angka genap dari 1 hingga 100 menggunakan looping."
      ],
      "metadata": {
        "id": "pRZxPB9WJEtN"
      }
    },
    {
      "cell_type": "code",
      "source": [
        "# NO 1\n",
        "\n",
        "i = 1\n",
        "genap = 0\n",
        "while i <= 10:\n",
        "  if i % 2 == 0:\n",
        "    print(i)\n",
        "    genap += 1\n",
        "  i += 1\n",
        "print(f'total bilangan genap adalah {genap}')"
      ],
      "metadata": {
        "id": "NaAyiklZNzf8"
      },
      "execution_count": null,
      "outputs": []
    },
    {
      "cell_type": "code",
      "source": [
        "status = True  # Ganti dengan False untuk melihat output \"Goodbye, World!\"\n",
        "\n",
        "if status:\n",
        "    print(\"Hello, World!\")\n",
        "else:\n",
        "    print(\"Goodbye, World!\")"
      ],
      "metadata": {
        "colab": {
          "base_uri": "https://localhost:8080/"
        },
        "id": "bgf4LKUjOLpN",
        "outputId": "b7369520-2825-446c-e44a-2bd82f8b0ec8"
      },
      "execution_count": null,
      "outputs": [
        {
          "output_type": "stream",
          "name": "stdout",
          "text": [
            "Hello, World!\n"
          ]
        }
      ]
    },
    {
      "cell_type": "code",
      "source": [
        "#3\n",
        "\n",
        "def penjumlahan(angka1,angka2):\n",
        "  hasil = angka1 + angka2\n",
        "  return hasil\n",
        "\n",
        "nilai1 = int(input('masukkan angka bulat ke-1 :'))\n",
        "nilai2 = int(input('masukkan angka bulat ke-2 :'))\n",
        "print('hasil penjumlahannya adalah' ,penjumlahan(nilai1,nilai2))"
      ],
      "metadata": {
        "colab": {
          "base_uri": "https://localhost:8080/"
        },
        "id": "N6BZ0Q1ZOoKI",
        "outputId": "08bbc262-23af-40fd-ea98-4a411a7639d3"
      },
      "execution_count": null,
      "outputs": [
        {
          "output_type": "stream",
          "name": "stdout",
          "text": [
            "masukkan angka bulat ke-1 :5\n",
            "masukkan angka bulat ke-2 :3\n",
            "hasil penjumlahannya adalah 8\n"
          ]
        }
      ]
    },
    {
      "cell_type": "code",
      "source": [
        "# No. 4\n",
        "print(\"Bilangan ganjil dari 1 hingga 10 adalah:\")\n",
        "for i in range(1, 11):\n",
        "    if i % 2 != 0:\n",
        "        print(i)"
      ],
      "metadata": {
        "colab": {
          "base_uri": "https://localhost:8080/"
        },
        "id": "ZTviOE3MPAIP",
        "outputId": "6a219931-7f0a-4db0-c082-5976eb5e2ec9"
      },
      "execution_count": null,
      "outputs": [
        {
          "output_type": "stream",
          "name": "stdout",
          "text": [
            "Bilangan ganjil dari 1 hingga 10 adalah:\n",
            "1\n",
            "3\n",
            "5\n",
            "7\n",
            "9\n"
          ]
        }
      ]
    },
    {
      "cell_type": "code",
      "source": [
        "#5\n",
        "\n",
        "def jumlah_elemen(daftar):\n",
        "    return sum(daftar)\n",
        "\n",
        "angka = [1, 2, 3, 4, 5]\n",
        "print(\"Jumlah semua elemen dalam daftar:\", jumlah_elemen(angka))"
      ],
      "metadata": {
        "colab": {
          "base_uri": "https://localhost:8080/"
        },
        "id": "JgyZVyFsPkyP",
        "outputId": "370872d5-017b-4d11-9f04-64f6be691b71"
      },
      "execution_count": null,
      "outputs": [
        {
          "output_type": "stream",
          "name": "stdout",
          "text": [
            "Jumlah semua elemen dalam daftar: 15\n"
          ]
        }
      ]
    },
    {
      "cell_type": "code",
      "source": [
        "#6\n",
        "\n",
        "import datetime\n",
        "\n",
        "sekarang = datetime.datetime.now()\n",
        "if sekarang.hour <= 12:\n",
        "    print(\"Selamat Pagi!\")\n",
        "else:\n",
        "    print(\"Selamat Siang!\")"
      ],
      "metadata": {
        "colab": {
          "base_uri": "https://localhost:8080/"
        },
        "id": "FfMGiTEbQGSd",
        "outputId": "d07a9eb4-2a81-4de2-f72e-dca0dfe9921f"
      },
      "execution_count": null,
      "outputs": [
        {
          "output_type": "stream",
          "name": "stdout",
          "text": [
            "Selamat Pagi!\n"
          ]
        }
      ]
    },
    {
      "cell_type": "code",
      "source": [
        "#7\n",
        "\n",
        "def reverse(string):\n",
        "    return string[::-1]\n",
        "\n",
        "kalimat = \"Van Dijk kepleset\"\n",
        "hasil = reverse(kalimat)\n",
        "\n",
        "print(\"Kebalikan dari kalimat:\", hasil)"
      ],
      "metadata": {
        "colab": {
          "base_uri": "https://localhost:8080/"
        },
        "id": "NXy10cKnQ63k",
        "outputId": "36b8614e-02c1-4272-8ca4-ae9b5276166d"
      },
      "execution_count": null,
      "outputs": [
        {
          "output_type": "stream",
          "name": "stdout",
          "text": [
            "Kebalikan dari kalimat: teselpek kjiD naV\n"
          ]
        }
      ]
    },
    {
      "cell_type": "code",
      "source": [
        "#8\n",
        "\n",
        "for angka in range(1, 6):\n",
        "    print(angka)"
      ],
      "metadata": {
        "colab": {
          "base_uri": "https://localhost:8080/"
        },
        "id": "gnTUAd20RtPA",
        "outputId": "996c6568-4d84-4c05-9ffc-8aed9de0e780"
      },
      "execution_count": null,
      "outputs": [
        {
          "output_type": "stream",
          "name": "stdout",
          "text": [
            "1\n",
            "2\n",
            "3\n",
            "4\n",
            "5\n"
          ]
        }
      ]
    },
    {
      "cell_type": "code",
      "source": [
        "#9\n",
        "print(\"Bilangan prima dari 1 hingga 20:\")\n",
        "\n",
        "for num in range(1, 21):\n",
        "    if num > 1:\n",
        "        for i in range(2, num):\n",
        "            if (num % i) == 0:\n",
        "                break\n",
        "        else:\n",
        "            print(num)"
      ],
      "metadata": {
        "colab": {
          "base_uri": "https://localhost:8080/"
        },
        "id": "A8xcIb_8R7yE",
        "outputId": "6d546bf9-f24c-47bd-917f-e39b5eb29cee"
      },
      "execution_count": null,
      "outputs": [
        {
          "output_type": "stream",
          "name": "stdout",
          "text": [
            "Bilangan prima dari 1 hingga 20:\n",
            "2\n",
            "3\n",
            "5\n",
            "7\n",
            "11\n",
            "13\n",
            "17\n",
            "19\n"
          ]
        }
      ]
    },
    {
      "cell_type": "code",
      "source": [
        "#10\n",
        "\n",
        "jumlah_genap = 0\n",
        "for i in range(1, 101):\n",
        "    if i % 2 == 0:\n",
        "        jumlah_genap += 1\n",
        "print(\"Bilangan Genap dari 1-100 adalah :\", jumlah_genap)"
      ],
      "metadata": {
        "colab": {
          "base_uri": "https://localhost:8080/"
        },
        "id": "HPFjUAVLTaN0",
        "outputId": "d2178b74-db26-4889-aa1f-7e2eeeb7b2e0"
      },
      "execution_count": null,
      "outputs": [
        {
          "output_type": "stream",
          "name": "stdout",
          "text": [
            "Bilangan Genap dari 1-100 adalah : 50\n"
          ]
        }
      ]
    },
    {
      "cell_type": "markdown",
      "source": [],
      "metadata": {
        "id": "mflY-t3pJFlx"
      }
    }
  ]
}